{
 "cells": [
  {
   "cell_type": "code",
   "execution_count": 1,
   "metadata": {},
   "outputs": [],
   "source": [
    "import random as rd\n",
    "import pandas as pd\n",
    "import numpy as np\n",
    "from sklearn.preprocessing import OneHotEncoder"
   ]
  },
  {
   "cell_type": "markdown",
   "metadata": {},
   "source": [
    "### DATASET"
   ]
  },
  {
   "cell_type": "code",
   "execution_count": 2,
   "metadata": {},
   "outputs": [],
   "source": [
    "data = pd.read_csv(\"dataset.csv\")"
   ]
  },
  {
   "cell_type": "code",
   "execution_count": 3,
   "metadata": {},
   "outputs": [
    {
     "data": {
      "text/plain": [
       "array([['Normal', 'Siang', 'Berawan', 'Normal'],\n",
       "       ['Normal', 'Siang', 'Cerah', 'Normal'],\n",
       "       ['Normal', 'Pagi', 'Hujan', 'Normal'],\n",
       "       ['Normal', 'Sore', 'Rintik', 'Rendah'],\n",
       "       ['Normal', 'Malam', 'Berawan', 'Tinggi'],\n",
       "       ['Normal', 'Malam', 'Cerah', 'Normal'],\n",
       "       ['Normal', 'Pagi', 'Cerah', 'Rendah'],\n",
       "       ['Normal', 'Siang', 'Berawan', 'Rendah'],\n",
       "       ['Normal', 'Sore', 'Hujan', 'Normal'],\n",
       "       ['Normal', 'Siang', 'Rintik', 'Rendah'],\n",
       "       ['Normal', 'Sore', 'Berawan', 'Tinggi'],\n",
       "       ['Normal', 'Sore', 'Cerah', 'Rendah'],\n",
       "       ['Normal', 'Pagi', 'Berawan', 'Normal'],\n",
       "       ['Normal', 'Malam', 'Hujan', 'Rendah'],\n",
       "       ['Normal', 'Pagi', 'Cerah', 'Normal'],\n",
       "       ['Normal', 'Pagi', 'Rintik', 'Normal'],\n",
       "       ['Normal', 'Malam', 'Berawan', 'Rendah'],\n",
       "       ['Normal', 'Siang', 'Hujan', 'Tinggi'],\n",
       "       ['Normal', 'Pagi', 'Rintik', 'Tinggi'],\n",
       "       ['Normal', 'Siang', 'Hujan', 'Rendah'],\n",
       "       ['Normal', 'Malam', 'Rintik', 'Rendah'],\n",
       "       ['Normal', 'Pagi', 'Rintik', 'Rendah'],\n",
       "       ['Normal', 'Sore', 'Hujan', 'Tinggi'],\n",
       "       ['Normal', 'Malam', 'Hujan', 'Tinggi'],\n",
       "       ['Rendah', 'Sore', 'Berawan', 'Tinggi'],\n",
       "       ['Rendah', 'Pagi', 'Berawan', 'Rendah'],\n",
       "       ['Rendah', 'Siang', 'Berawan', 'Rendah'],\n",
       "       ['Rendah', 'Pagi', 'Rintik', 'Normal'],\n",
       "       ['Rendah', 'Malam', 'Hujan', 'Tinggi'],\n",
       "       ['Rendah', 'Siang', 'Rintik', 'Normal'],\n",
       "       ['Rendah', 'Sore', 'Hujan', 'Rendah'],\n",
       "       ['Rendah', 'Pagi', 'Cerah', 'Rendah'],\n",
       "       ['Rendah', 'Sore', 'Cerah', 'Rendah'],\n",
       "       ['Rendah', 'Malam', 'Rintik', 'Rendah'],\n",
       "       ['Rendah', 'Malam', 'Berawan', 'Tinggi'],\n",
       "       ['Rendah', 'Sore', 'Rintik', 'Rendah'],\n",
       "       ['Rendah', 'Sore', 'Berawan', 'Normal'],\n",
       "       ['Rendah', 'Siang', 'Hujan', 'Normal'],\n",
       "       ['Rendah', 'Pagi', 'Rintik', 'Tinggi'],\n",
       "       ['Rendah', 'Sore', 'Hujan', 'Tinggi'],\n",
       "       ['Rendah', 'Pagi', 'Hujan', 'Normal'],\n",
       "       ['Rendah', 'Siang', 'Cerah', 'Normal'],\n",
       "       ['Rendah', 'Pagi', 'Hujan', 'Tinggi'],\n",
       "       ['Rendah', 'Malam', 'Cerah', 'Normal'],\n",
       "       ['Rendah', 'Pagi', 'Hujan', 'Rendah'],\n",
       "       ['Rendah', 'Pagi', 'Rintik', 'Rendah'],\n",
       "       ['Rendah', 'Siang', 'Berawan', 'Normal'],\n",
       "       ['Rendah', 'Sore', 'Hujan', 'Normal'],\n",
       "       ['Rendah', 'Pagi', 'Cerah', 'Tinggi'],\n",
       "       ['Rendah', 'Siang', 'Hujan', 'Rendah'],\n",
       "       ['Rendah', 'Pagi', 'Berawan', 'Tinggi'],\n",
       "       ['Rendah', 'Sore', 'Rintik', 'Tinggi'],\n",
       "       ['Rendah', 'Siang', 'Rintik', 'Rendah'],\n",
       "       ['Rendah', 'Pagi', 'Cerah', 'Normal'],\n",
       "       ['Rendah', 'Malam', 'Berawan', 'Normal'],\n",
       "       ['Tinggi', 'Sore', 'Berawan', 'Rendah'],\n",
       "       ['Tinggi', 'Pagi', 'Cerah', 'Rendah'],\n",
       "       ['Tinggi', 'Siang', 'Cerah', 'Tinggi'],\n",
       "       ['Tinggi', 'Siang', 'Berawan', 'Tinggi'],\n",
       "       ['Tinggi', 'Siang', 'Hujan', 'Tinggi'],\n",
       "       ['Tinggi', 'Pagi', 'Berawan', 'Tinggi'],\n",
       "       ['Tinggi', 'Pagi', 'Hujan', 'Normal'],\n",
       "       ['Tinggi', 'Siang', 'Cerah', 'Normal'],\n",
       "       ['Tinggi', 'Pagi', 'Berawan', 'Normal'],\n",
       "       ['Tinggi', 'Sore', 'Rintik', 'Rendah'],\n",
       "       ['Tinggi', 'Sore', 'Cerah', 'Rendah'],\n",
       "       ['Tinggi', 'Pagi', 'Rintik', 'Rendah'],\n",
       "       ['Tinggi', 'Sore', 'Berawan', 'Normal'],\n",
       "       ['Tinggi', 'Pagi', 'Cerah', 'Tinggi'],\n",
       "       ['Tinggi', 'Sore', 'Cerah', 'Normal'],\n",
       "       ['Tinggi', 'Malam', 'Hujan', 'Tinggi'],\n",
       "       ['Tinggi', 'Sore', 'Rintik', 'Tinggi'],\n",
       "       ['Tinggi', 'Malam', 'Hujan', 'Normal'],\n",
       "       ['Tinggi', 'Malam', 'Rintik', 'Normal'],\n",
       "       ['Tinggi', 'Sore', 'Hujan', 'Rendah'],\n",
       "       ['Tinggi', 'Pagi', 'Hujan', 'Rendah'],\n",
       "       ['Tinggi', 'Pagi', 'Berawan', 'Rendah'],\n",
       "       ['Tinggi', 'Malam', 'Berawan', 'Normal'],\n",
       "       ['Tinggi', 'Malam', 'Rintik', 'Rendah'],\n",
       "       ['Tinggi', 'Malam', 'Berawan', 'Tinggi']], dtype=object)"
      ]
     },
     "execution_count": 3,
     "metadata": {},
     "output_type": "execute_result"
    }
   ],
   "source": [
    "list_data = data[['Suhu','Waktu','Kondisi Langit', 'Kelembapan']].values\n",
    "list_data"
   ]
  },
  {
   "cell_type": "code",
   "execution_count": 4,
   "metadata": {},
   "outputs": [
    {
     "data": {
      "text/plain": [
       "array(['x0_Normal', 'x0_Rendah', 'x0_Tinggi', 'x1_Malam', 'x1_Pagi',\n",
       "       'x1_Siang', 'x1_Sore', 'x2_Berawan', 'x2_Cerah', 'x2_Hujan',\n",
       "       'x2_Rintik', 'x3_Normal', 'x3_Rendah', 'x3_Tinggi'], dtype=object)"
      ]
     },
     "execution_count": 4,
     "metadata": {},
     "output_type": "execute_result"
    }
   ],
   "source": [
    "enc = OneHotEncoder(sparse = False)\n",
    "datalatih = (enc.fit_transform(list_data)).astype(int).tolist()\n",
    "enc.get_feature_names()"
   ]
  },
  {
   "cell_type": "markdown",
   "metadata": {},
   "source": [
    "### Encode data to biner"
   ]
  },
  {
   "cell_type": "code",
   "execution_count": 5,
   "metadata": {},
   "outputs": [],
   "source": [
    "for i in range (len(datalatih)):\n",
    "    if (data['Terbang/Tidak'][i] == \"Tidak\"):\n",
    "        datalatih[i].append(0)\n",
    "    else:\n",
    "        datalatih[i].append(1)"
   ]
  },
  {
   "cell_type": "code",
   "execution_count": 6,
   "metadata": {},
   "outputs": [],
   "source": [
    "dataset = datalatih[:60]\n",
    "datauji = datalatih[60:]"
   ]
  },
  {
   "cell_type": "code",
   "execution_count": 7,
   "metadata": {},
   "outputs": [
    {
     "data": {
      "text/plain": [
       "[[1, 0, 0, 0, 0, 1, 0, 1, 0, 0, 0, 1, 0, 0, 0],\n",
       " [1, 0, 0, 0, 0, 1, 0, 0, 1, 0, 0, 1, 0, 0, 0],\n",
       " [1, 0, 0, 0, 1, 0, 0, 0, 0, 1, 0, 1, 0, 0, 0],\n",
       " [1, 0, 0, 0, 0, 0, 1, 0, 0, 0, 1, 0, 1, 0, 1],\n",
       " [1, 0, 0, 1, 0, 0, 0, 1, 0, 0, 0, 0, 0, 1, 0],\n",
       " [1, 0, 0, 1, 0, 0, 0, 0, 1, 0, 0, 1, 0, 0, 1],\n",
       " [1, 0, 0, 0, 1, 0, 0, 0, 1, 0, 0, 0, 1, 0, 1],\n",
       " [1, 0, 0, 0, 0, 1, 0, 1, 0, 0, 0, 0, 1, 0, 0],\n",
       " [1, 0, 0, 0, 0, 0, 1, 0, 0, 1, 0, 1, 0, 0, 0],\n",
       " [1, 0, 0, 0, 0, 1, 0, 0, 0, 0, 1, 0, 1, 0, 1],\n",
       " [1, 0, 0, 0, 0, 0, 1, 1, 0, 0, 0, 0, 0, 1, 0],\n",
       " [1, 0, 0, 0, 0, 0, 1, 0, 1, 0, 0, 0, 1, 0, 0],\n",
       " [1, 0, 0, 0, 1, 0, 0, 1, 0, 0, 0, 1, 0, 0, 1],\n",
       " [1, 0, 0, 1, 0, 0, 0, 0, 0, 1, 0, 0, 1, 0, 1],\n",
       " [1, 0, 0, 0, 1, 0, 0, 0, 1, 0, 0, 1, 0, 0, 0],\n",
       " [1, 0, 0, 0, 1, 0, 0, 0, 0, 0, 1, 1, 0, 0, 0],\n",
       " [1, 0, 0, 1, 0, 0, 0, 1, 0, 0, 0, 0, 1, 0, 0],\n",
       " [1, 0, 0, 0, 0, 1, 0, 0, 0, 1, 0, 0, 0, 1, 0],\n",
       " [1, 0, 0, 0, 1, 0, 0, 0, 0, 0, 1, 0, 0, 1, 1],\n",
       " [1, 0, 0, 0, 0, 1, 0, 0, 0, 1, 0, 0, 1, 0, 0],\n",
       " [1, 0, 0, 1, 0, 0, 0, 0, 0, 0, 1, 0, 1, 0, 1],\n",
       " [1, 0, 0, 0, 1, 0, 0, 0, 0, 0, 1, 0, 1, 0, 0],\n",
       " [1, 0, 0, 0, 0, 0, 1, 0, 0, 1, 0, 0, 0, 1, 0],\n",
       " [1, 0, 0, 1, 0, 0, 0, 0, 0, 1, 0, 0, 0, 1, 0],\n",
       " [0, 1, 0, 0, 0, 0, 1, 1, 0, 0, 0, 0, 0, 1, 0],\n",
       " [0, 1, 0, 0, 1, 0, 0, 1, 0, 0, 0, 0, 1, 0, 1],\n",
       " [0, 1, 0, 0, 0, 1, 0, 1, 0, 0, 0, 0, 1, 0, 1],\n",
       " [0, 1, 0, 0, 1, 0, 0, 0, 0, 0, 1, 1, 0, 0, 1],\n",
       " [0, 1, 0, 1, 0, 0, 0, 0, 0, 1, 0, 0, 0, 1, 0],\n",
       " [0, 1, 0, 0, 0, 1, 0, 0, 0, 0, 1, 1, 0, 0, 1],\n",
       " [0, 1, 0, 0, 0, 0, 1, 0, 0, 1, 0, 0, 1, 0, 0],\n",
       " [0, 1, 0, 0, 1, 0, 0, 0, 1, 0, 0, 0, 1, 0, 1],\n",
       " [0, 1, 0, 0, 0, 0, 1, 0, 1, 0, 0, 0, 1, 0, 0],\n",
       " [0, 1, 0, 1, 0, 0, 0, 0, 0, 0, 1, 0, 1, 0, 0],\n",
       " [0, 1, 0, 1, 0, 0, 0, 1, 0, 0, 0, 0, 0, 1, 1],\n",
       " [0, 1, 0, 0, 0, 0, 1, 0, 0, 0, 1, 0, 1, 0, 0],\n",
       " [0, 1, 0, 0, 0, 0, 1, 1, 0, 0, 0, 1, 0, 0, 1],\n",
       " [0, 1, 0, 0, 0, 1, 0, 0, 0, 1, 0, 1, 0, 0, 1],\n",
       " [0, 1, 0, 0, 1, 0, 0, 0, 0, 0, 1, 0, 0, 1, 1],\n",
       " [0, 1, 0, 0, 0, 0, 1, 0, 0, 1, 0, 0, 0, 1, 0],\n",
       " [0, 1, 0, 0, 1, 0, 0, 0, 0, 1, 0, 1, 0, 0, 1],\n",
       " [0, 1, 0, 0, 0, 1, 0, 0, 1, 0, 0, 1, 0, 0, 1],\n",
       " [0, 1, 0, 0, 1, 0, 0, 0, 0, 1, 0, 0, 0, 1, 1],\n",
       " [0, 1, 0, 1, 0, 0, 0, 0, 1, 0, 0, 1, 0, 0, 1],\n",
       " [0, 1, 0, 0, 1, 0, 0, 0, 0, 1, 0, 0, 1, 0, 1],\n",
       " [0, 1, 0, 0, 1, 0, 0, 0, 0, 0, 1, 0, 1, 0, 1],\n",
       " [0, 1, 0, 0, 0, 1, 0, 1, 0, 0, 0, 1, 0, 0, 1],\n",
       " [0, 1, 0, 0, 0, 0, 1, 0, 0, 1, 0, 1, 0, 0, 0],\n",
       " [0, 1, 0, 0, 1, 0, 0, 0, 1, 0, 0, 0, 0, 1, 1],\n",
       " [0, 1, 0, 0, 0, 1, 0, 0, 0, 1, 0, 0, 1, 0, 0],\n",
       " [0, 1, 0, 0, 1, 0, 0, 1, 0, 0, 0, 0, 0, 1, 1],\n",
       " [0, 1, 0, 0, 0, 0, 1, 0, 0, 0, 1, 0, 0, 1, 0],\n",
       " [0, 1, 0, 0, 0, 1, 0, 0, 0, 0, 1, 0, 1, 0, 1],\n",
       " [0, 1, 0, 0, 1, 0, 0, 0, 1, 0, 0, 1, 0, 0, 1],\n",
       " [0, 1, 0, 1, 0, 0, 0, 1, 0, 0, 0, 1, 0, 0, 1],\n",
       " [0, 0, 1, 0, 0, 0, 1, 1, 0, 0, 0, 0, 1, 0, 1],\n",
       " [0, 0, 1, 0, 1, 0, 0, 0, 1, 0, 0, 0, 1, 0, 1],\n",
       " [0, 0, 1, 0, 0, 1, 0, 0, 1, 0, 0, 0, 0, 1, 1],\n",
       " [0, 0, 1, 0, 0, 1, 0, 1, 0, 0, 0, 0, 0, 1, 1],\n",
       " [0, 0, 1, 0, 0, 1, 0, 0, 0, 1, 0, 0, 0, 1, 0]]"
      ]
     },
     "execution_count": 7,
     "metadata": {},
     "output_type": "execute_result"
    }
   ],
   "source": [
    "dataset"
   ]
  },
  {
   "cell_type": "code",
   "execution_count": 8,
   "metadata": {},
   "outputs": [
    {
     "data": {
      "text/plain": [
       "[[0, 0, 1, 0, 1, 0, 0, 1, 0, 0, 0, 0, 0, 1, 0],\n",
       " [0, 0, 1, 0, 1, 0, 0, 0, 0, 1, 0, 1, 0, 0, 1],\n",
       " [0, 0, 1, 0, 0, 1, 0, 0, 1, 0, 0, 1, 0, 0, 1],\n",
       " [0, 0, 1, 0, 1, 0, 0, 1, 0, 0, 0, 1, 0, 0, 1],\n",
       " [0, 0, 1, 0, 0, 0, 1, 0, 0, 0, 1, 0, 1, 0, 0],\n",
       " [0, 0, 1, 0, 0, 0, 1, 0, 1, 0, 0, 0, 1, 0, 1],\n",
       " [0, 0, 1, 0, 1, 0, 0, 0, 0, 0, 1, 0, 1, 0, 0],\n",
       " [0, 0, 1, 0, 0, 0, 1, 1, 0, 0, 0, 1, 0, 0, 0],\n",
       " [0, 0, 1, 0, 1, 0, 0, 0, 1, 0, 0, 0, 0, 1, 0],\n",
       " [0, 0, 1, 0, 0, 0, 1, 0, 1, 0, 0, 1, 0, 0, 0],\n",
       " [0, 0, 1, 1, 0, 0, 0, 0, 0, 1, 0, 0, 0, 1, 0],\n",
       " [0, 0, 1, 0, 0, 0, 1, 0, 0, 0, 1, 0, 0, 1, 1],\n",
       " [0, 0, 1, 1, 0, 0, 0, 0, 0, 1, 0, 1, 0, 0, 0],\n",
       " [0, 0, 1, 1, 0, 0, 0, 0, 0, 0, 1, 1, 0, 0, 0],\n",
       " [0, 0, 1, 0, 0, 0, 1, 0, 0, 1, 0, 0, 1, 0, 0],\n",
       " [0, 0, 1, 0, 1, 0, 0, 0, 0, 1, 0, 0, 1, 0, 0],\n",
       " [0, 0, 1, 0, 1, 0, 0, 1, 0, 0, 0, 0, 1, 0, 1],\n",
       " [0, 0, 1, 1, 0, 0, 0, 1, 0, 0, 0, 1, 0, 0, 0],\n",
       " [0, 0, 1, 1, 0, 0, 0, 0, 0, 0, 1, 0, 1, 0, 1],\n",
       " [0, 0, 1, 1, 0, 0, 0, 1, 0, 0, 0, 0, 0, 1, 0]]"
      ]
     },
     "execution_count": 8,
     "metadata": {},
     "output_type": "execute_result"
    }
   ],
   "source": [
    "datauji"
   ]
  },
  {
   "cell_type": "markdown",
   "metadata": {},
   "source": [
    "### Individu"
   ]
  },
  {
   "cell_type": "code",
   "execution_count": 9,
   "metadata": {},
   "outputs": [],
   "source": [
    "def individu():\n",
    "    gen = []\n",
    "    for i in range(15):\n",
    "        gen.append(rd.randint(0,1))\n",
    "    return gen"
   ]
  },
  {
   "cell_type": "markdown",
   "metadata": {},
   "source": [
    "### Rule"
   ]
  },
  {
   "cell_type": "code",
   "execution_count": 10,
   "metadata": {},
   "outputs": [],
   "source": [
    "def getIndex(data):\n",
    "    index = []\n",
    "    for i in range (len(data)):\n",
    "        if (data[i] == 1):\n",
    "            index.append(i)\n",
    "    return index"
   ]
  },
  {
   "cell_type": "markdown",
   "metadata": {},
   "source": [
    "##### Cek suhu's rule"
   ]
  },
  {
   "cell_type": "code",
   "execution_count": 11,
   "metadata": {},
   "outputs": [],
   "source": [
    "def suhu(x_train, x_krom):\n",
    "    for i in range (len(x_train)):\n",
    "        if (x_train[i] not in x_krom):\n",
    "            return False\n",
    "    return True"
   ]
  },
  {
   "cell_type": "markdown",
   "metadata": {},
   "source": [
    "##### Cek waktu's rule"
   ]
  },
  {
   "cell_type": "code",
   "execution_count": 12,
   "metadata": {},
   "outputs": [],
   "source": [
    "def waktu(x_train, x_krom):\n",
    "    for i in range (len(x_train)):\n",
    "        if (x_train[i] not in x_krom):\n",
    "            return False\n",
    "    return True"
   ]
  },
  {
   "cell_type": "markdown",
   "metadata": {},
   "source": [
    "##### Cek kondisi langit's rule"
   ]
  },
  {
   "cell_type": "code",
   "execution_count": 13,
   "metadata": {},
   "outputs": [],
   "source": [
    "def kondisi_langit(x_train, x_krom):\n",
    "    for i in range (len(x_train)):\n",
    "        if (x_train[i] not in x_krom):\n",
    "            return False\n",
    "    return True"
   ]
  },
  {
   "cell_type": "markdown",
   "metadata": {},
   "source": [
    "##### Cek kelembapan's rule"
   ]
  },
  {
   "cell_type": "code",
   "execution_count": 14,
   "metadata": {},
   "outputs": [],
   "source": [
    "def kelembapan(x_train, x_krom):\n",
    "    for i in range (len(x_train)):\n",
    "        if (x_train[i] not in x_krom):\n",
    "            return False\n",
    "    return True"
   ]
  },
  {
   "cell_type": "markdown",
   "metadata": {},
   "source": [
    "### Make the rule"
   ]
  },
  {
   "cell_type": "code",
   "execution_count": 15,
   "metadata": {},
   "outputs": [],
   "source": [
    "def cekRule(data_train, kromosom):\n",
    "    \n",
    "    t_suhu, k_suhu = getIndex(data_train[:3]), getIndex(kromosom[:3])  # Suhu's index\n",
    "    t_waktu, k_waktu = getIndex(data_train[3:7]), getIndex(kromosom[3:7])  # Waktu's index\n",
    "    t_langit, k_langit = getIndex(data_train[7:11]), getIndex(kromosom[7:11])  # Langit's index\n",
    "    t_lembab, k_lembab = getIndex(data_train[11:14]), getIndex(kromosom[11:14])  # Kelembapan's index\n",
    "    \n",
    "    if (not k_suhu) and (not k_waktu) and (not k_langit) and (not k_lembab):\n",
    "        return False\n",
    "    else:\n",
    "        if ((suhu(t_suhu, k_suhu)) and waktu(t_waktu, k_waktu) and (kondisi_langit(t_langit, k_langit)) and (kelembapan(t_lembab, k_lembab))):\n",
    "            if (data_train[14] == kromosom[14]):\n",
    "                return True\n",
    "            else:\n",
    "                return False\n",
    "        else:\n",
    "            return False"
   ]
  },
  {
   "cell_type": "code",
   "execution_count": 16,
   "metadata": {},
   "outputs": [],
   "source": [
    "def cekRule2(data_train, kromosom):\n",
    "    \n",
    "    t_suhu, k_suhu = getIndex(data_train[:3]), getIndex(kromosom[:3])  # Suhu's index\n",
    "    t_waktu, k_waktu = getIndex(data_train[3:7]), getIndex(kromosom[3:7])  # Waktu's index\n",
    "    t_langit, k_langit = getIndex(data_train[7:11]), getIndex(kromosom[7:11])  # Langit's index\n",
    "    t_lembab, k_lembab = getIndex(data_train[11:14]), getIndex(kromosom[11:14])  # Kelembapan's index\n",
    "    \n",
    "    if (not k_suhu) and (not k_waktu) and (not k_langit) and (not k_lembab):\n",
    "        return False\n",
    "    else:\n",
    "        if ((suhu(t_suhu, k_suhu)) and waktu(t_waktu, k_waktu) and (kondisi_langit(t_langit, k_langit)) and (kelembapan(t_lembab, k_lembab))):\n",
    "            if (data_train[14] == kromosom[14]):\n",
    "                return True\n",
    "            else:\n",
    "                return False\n",
    "        else:\n",
    "            if (data_train[14] != kromosom[14]):\n",
    "                return True\n",
    "            else:\n",
    "                return False"
   ]
  },
  {
   "cell_type": "markdown",
   "metadata": {},
   "source": [
    "#### Split kromosom"
   ]
  },
  {
   "cell_type": "code",
   "execution_count": 17,
   "metadata": {},
   "outputs": [],
   "source": [
    "def splitKromosom(kromosom):\n",
    "    list_rule = []\n",
    "    if (len(kromosom) % 15 == 0):\n",
    "        list_rule = [kromosom[i:i + 15] for i in range(0, len(kromosom), 15)]\n",
    "    \n",
    "    return list_rule"
   ]
  },
  {
   "cell_type": "markdown",
   "metadata": {},
   "source": [
    "#### Count fitness / accuracy"
   ]
  },
  {
   "cell_type": "code",
   "execution_count": 18,
   "metadata": {},
   "outputs": [],
   "source": [
    "def countFitness(dataset, kromosom):\n",
    "    count = 0\n",
    "    for i in range(len(dataset)):\n",
    "        if (nRule(kromosom,dataset[i])) :\n",
    "            count += 1\n",
    "    return count/len(dataset)*100"
   ]
  },
  {
   "cell_type": "markdown",
   "metadata": {},
   "source": [
    "#### Get the rules from kromosom with length more than 15"
   ]
  },
  {
   "cell_type": "code",
   "execution_count": 19,
   "metadata": {},
   "outputs": [],
   "source": [
    "def nRule(kromosom, dataset):\n",
    "    split_kromosom = []\n",
    "    split_kromosom = splitKromosom(kromosom)\n",
    "    \n",
    "    for i in range (len(split_kromosom)):\n",
    "        if (cekRule2(dataset, split_kromosom[i])):\n",
    "            return True\n",
    "    return False"
   ]
  },
  {
   "cell_type": "markdown",
   "metadata": {},
   "source": [
    "### Population"
   ]
  },
  {
   "cell_type": "code",
   "execution_count": 20,
   "metadata": {},
   "outputs": [],
   "source": [
    "def population(nPop):\n",
    "    population = []\n",
    "    \n",
    "    for i in range(nPop):\n",
    "        population.append(individu())\n",
    "    \n",
    "    return population"
   ]
  },
  {
   "cell_type": "markdown",
   "metadata": {},
   "source": [
    "### Get the fitness for every individu"
   ]
  },
  {
   "cell_type": "code",
   "execution_count": 21,
   "metadata": {
    "scrolled": true
   },
   "outputs": [],
   "source": [
    "def fitnessPop(population, dataset):\n",
    "    fitPop = []\n",
    "    for i in range (len(population)):\n",
    "        fitPop.append([countFitness(dataset, population[i]), population[i]])\n",
    "    return fitPop"
   ]
  },
  {
   "cell_type": "markdown",
   "metadata": {},
   "source": [
    "### Parent selection : Turnament"
   ]
  },
  {
   "cell_type": "code",
   "execution_count": 22,
   "metadata": {},
   "outputs": [],
   "source": [
    "def turnamenParent(fitness, n):\n",
    "    idxs = rd.sample(range(len(fitness)), n)\n",
    "    fitnesses = [fitness[idxs[i]][0] for i in range(n)]\n",
    "    fitnesses, idxs = zip(*sorted(zip(fitnesses, idxs)))\n",
    "    return idxs[n-1]"
   ]
  },
  {
   "cell_type": "markdown",
   "metadata": {},
   "source": [
    "### Crossover"
   ]
  },
  {
   "cell_type": "code",
   "execution_count": 23,
   "metadata": {},
   "outputs": [],
   "source": [
    "def crossOver(parent1, parent2):\n",
    "    c1 = np.array(parent1)\n",
    "    c2 = np.array(parent2)\n",
    "    \n",
    "    # Choose the point\n",
    "    t1,t2 = rd.sample(range(len(c1)),2)\n",
    "    # Switch to make t2 always bigger than t1 \n",
    "    if (t1>t2):\n",
    "        t1, t2 = t2, t1\n",
    "        \n",
    "    # If both length are 15\n",
    "    if (len(c1) == 15 and len(c2) == 15):\n",
    "        new1 = np.hstack([c2[:t2], c1, c2[t2:]])\n",
    "        new2 = np.hstack([c1[:t2], c2, c1[t2:]])\n",
    "        \n",
    "        return new1.tolist(), new2.tolist()\n",
    "    else:\n",
    "        # if len c1 or c2 is 15\n",
    "        if (len(c1) == 15 or len(c2) == 15):\n",
    "            if (len(c2) == 15):\n",
    "                t1,t2 = rd.sample(range(len(c2)),2)\n",
    "                if (t1>t2):\n",
    "                    t1, t2 = t2, t1\n",
    "                    \n",
    "            # New Child 1\n",
    "            temp1 = c1.copy()\n",
    "            new1 = np.hstack([c2[:t2], c1, c2[t2:]])\n",
    "            \n",
    "            # New Child 2                  \n",
    "            c2[t1:t2] = temp1[t1:t2]\n",
    "            new2 = c2\n",
    "        \n",
    "        else:\n",
    "            gen = t2 - t1\n",
    "            gap = gen % 15\n",
    "\n",
    "            # List of the possible index\n",
    "            list_idx = [[t1,t1+gap], [t1,t1+gen], [t2-gap, t2]]\n",
    "\n",
    "            # Choose 3rd point\n",
    "            x3 = rd.randrange(0, len(c2))\n",
    "            y3 = 0\n",
    "            if (x3-gap < 0):\n",
    "                y3 = x3 + gap\n",
    "            else:\n",
    "                y3 = x3 - gap\n",
    "\n",
    "            if (x3 > y3):\n",
    "                x3, y3 = y3, x3\n",
    "\n",
    "            # Choose the point to crossover\n",
    "            idx = rd.choice(list_idx)\n",
    "\n",
    "            sliceParent1 = np.split(c1, idx)\n",
    "            sliceParent2 = np.split(c2, [x3, y3])\n",
    " \n",
    "            new1 = np.hstack([sliceParent1[0], sliceParent2[1], sliceParent1[2]])\n",
    "            new2 = np.hstack([sliceParent2[0], sliceParent1[1], sliceParent2[2]])\n",
    "        \n",
    "        return new1.tolist(), new2.tolist()"
   ]
  },
  {
   "cell_type": "markdown",
   "metadata": {},
   "source": [
    "### Formula for genes mutation"
   ]
  },
  {
   "cell_type": "code",
   "execution_count": 24,
   "metadata": {},
   "outputs": [],
   "source": [
    "def mutasiGen(indiv, chance):\n",
    "    for i in range (len(indiv)):\n",
    "        probability = rd.uniform(0,1)\n",
    "        if (probability < chance):\n",
    "            if (indiv[i] == 1): \n",
    "                indiv[i] = 0\n",
    "            else: \n",
    "                indiv[i] = 1\n",
    "    return indiv"
   ]
  },
  {
   "cell_type": "markdown",
   "metadata": {},
   "source": [
    "### Get accuracy of the new populasi"
   ]
  },
  {
   "cell_type": "code",
   "execution_count": 25,
   "metadata": {},
   "outputs": [],
   "source": [
    "def getFinalResult(lastGen):\n",
    "    for i in range(len(lastGen)):\n",
    "        print(lastGen[i][0])"
   ]
  },
  {
   "cell_type": "markdown",
   "metadata": {},
   "source": [
    "# MAIN PROGRAM"
   ]
  },
  {
   "cell_type": "code",
   "execution_count": 26,
   "metadata": {},
   "outputs": [],
   "source": [
    "kromosom = 15\n",
    "nPop = 10\n",
    "chance = 0.3"
   ]
  },
  {
   "cell_type": "code",
   "execution_count": 157,
   "metadata": {},
   "outputs": [
    {
     "name": "stdout",
     "output_type": "stream",
     "text": [
      "VALIDASI [0.1, 1.1, 100.0]\n",
      "LIST TERBAIK [0, 0, 100.0]\n",
      "VALIDASI [0.1, 1.1, 100.0, 100.0]\n",
      "LIST TERBAIK [0, 0, 100.0, 100.0]\n",
      "VALIDASI [0.1, 1.1, 100.0, 100.0, 100.0]\n",
      "LIST TERBAIK [0, 0, 100.0, 100.0, 100.0]\n",
      "VALIDASI [0.1, 1.1, 100.0, 100.0, 100.0, 100.0]\n",
      "LIST TERBAIK [0, 0, 100.0, 100.0, 100.0, 100.0]\n",
      "VALIDASI [0.1, 1.1, 100.0, 100.0, 100.0, 100.0, 100.0]\n",
      "LIST TERBAIK [0, 0, 100.0, 100.0, 100.0, 100.0, 100.0]\n",
      "VALIDASI [0.1, 1.1, 100.0, 100.0, 100.0, 100.0, 100.0]\n",
      "LIST TERBAIK [0, 0, 100.0, 100.0, 100.0, 100.0, 100.0]\n"
     ]
    }
   ],
   "source": [
    "populasi = population(nPop)\n",
    "fitAcc = fitnessPop(populasi, dataset)\n",
    "fitAcc.sort(reverse=True)\n",
    "idx = 0\n",
    "list_uji = [0.1, 1.1]\n",
    "list_best = [0, 0]\n",
    "ulang = True\n",
    "# for i in range(60):\n",
    "# while(fitAcc[0][0] != 100):\n",
    "while(ulang):\n",
    "# while(list_uji[len(list_uji)-1] != 100.0):\n",
    "    newGeneration = []\n",
    "    for j in range(nPop//2):\n",
    "        rangeChoosen = 4\n",
    "        iParent1 = turnamenParent(populasi, rangeChoosen)\n",
    "        iParent2 = turnamenParent(populasi, rangeChoosen)\n",
    "        \n",
    "        # Avoid same of parents\n",
    "        while(iParent1 == iParent2):\n",
    "            iParent1 = turnamenParent(fitAcc,rangeChoosen)\n",
    "            iParent2 = turnamenParent(fitAcc,rangeChoosen)\n",
    "\n",
    "        # Get the parents\n",
    "        parent1 = fitAcc[iParent1][1].copy()\n",
    "        parent2 = fitAcc[iParent2][1].copy()\n",
    "\n",
    "        # Crossover parents\n",
    "        child1, child2 = crossOver(parent1, parent2)\n",
    "\n",
    "        child1 = mutasiGen(child1, chance)\n",
    "        child2 = mutasiGen(child2, chance)\n",
    "        \n",
    "        # Get new generation\n",
    "        newGeneration.append([countFitness(dataset, child1), child1])\n",
    "        newGeneration.append([countFitness(dataset, child2), child2])\n",
    "        \n",
    "    newGeneration.sort()\n",
    "    \n",
    "    # Generational replacement\n",
    "    fitAcc[nPop//2:] = newGeneration[nPop//2:]\n",
    "    fitAcc.sort(reverse = True)\n",
    "    \n",
    "    finalRule = fitAcc[0]\n",
    "    list_uji.append(countFitness(datauji, finalRule[1]))\n",
    "    list_best.append(finalRule[0])\n",
    "\n",
    "    # STOP IF \n",
    "    # Length of list uji > 10 and and it return same value, that is 100\n",
    "    # Or list_uji[n-1] > list_uji[n-2]\n",
    "    print(\"VALIDASI\",list_uji)\n",
    "    print(\"LIST TERBAIK\",list_best)\n",
    "    if (fitAcc[0][0] == 100):\n",
    "        if (len(list_uji) >= 5):\n",
    "            if (list_uji[len(list_uji)-1] <= list_uji[len(list_uji)-5]) or (list_uji[len(list_uji)-1] < list_uji[len(list_uji)-2]):\n",
    "                ulang = False\n",
    "            \n",
    "print(\"VALIDASI\",list_uji)\n",
    "print(\"LIST TERBAIK\",list_best)"
   ]
  },
  {
   "cell_type": "markdown",
   "metadata": {},
   "source": [
    "### Plot Grafik data validasi dan akursi"
   ]
  },
  {
   "cell_type": "code",
   "execution_count": 158,
   "metadata": {},
   "outputs": [
    {
     "data": {
      "text/plain": [
       "<matplotlib.legend.Legend at 0x185e0bba7b8>"
      ]
     },
     "execution_count": 158,
     "metadata": {},
     "output_type": "execute_result"
    },
    {
     "data": {
      "image/png": "[encoded data removed]",
      "text/plain": [
       "<Figure size 432x288 with 1 Axes>"
      ]
     },
     "metadata": {
      "needs_background": "light"
     },
     "output_type": "display_data"
    }
   ],
   "source": [
    "from matplotlib import pyplot as plt\n",
    "\n",
    "plt.plot(list_uji, label='Validation')\n",
    "plt.plot(list_best, label='Chromosome')\n",
    "plt.legend()"
   ]
  },
  {
   "cell_type": "code",
   "execution_count": 159,
   "metadata": {},
   "outputs": [
    {
     "data": {
      "text/html": [
       "<div>\n",
       "<style scoped>\n",
       "    .dataframe tbody tr th:only-of-type {\n",
       "        vertical-align: middle;\n",
       "    }\n",
       "\n",
       "    .dataframe tbody tr th {\n",
       "        vertical-align: top;\n",
       "    }\n",
       "\n",
       "    .dataframe thead th {\n",
       "        text-align: right;\n",
       "    }\n",
       "</style>\n",
       "<table border=\"1\" class=\"dataframe\">\n",
       "  <thead>\n",
       "    <tr style=\"text-align: right;\">\n",
       "      <th></th>\n",
       "      <th>Suhu</th>\n",
       "      <th>Waktu</th>\n",
       "      <th>Kondisi Langit</th>\n",
       "      <th>Kelembapan</th>\n",
       "      <th>Terbang/Tidak</th>\n",
       "    </tr>\n",
       "  </thead>\n",
       "  <tbody>\n",
       "    <tr>\n",
       "      <th>0</th>\n",
       "      <td>Tinggi</td>\n",
       "      <td>Siang</td>\n",
       "      <td>Berawan</td>\n",
       "      <td>Rendah</td>\n",
       "      <td>NaN</td>\n",
       "    </tr>\n",
       "    <tr>\n",
       "      <th>1</th>\n",
       "      <td>Rendah</td>\n",
       "      <td>Siang</td>\n",
       "      <td>Hujan</td>\n",
       "      <td>Tinggi</td>\n",
       "      <td>NaN</td>\n",
       "    </tr>\n",
       "    <tr>\n",
       "      <th>2</th>\n",
       "      <td>Normal</td>\n",
       "      <td>Pagi</td>\n",
       "      <td>Hujan</td>\n",
       "      <td>Tinggi</td>\n",
       "      <td>NaN</td>\n",
       "    </tr>\n",
       "    <tr>\n",
       "      <th>3</th>\n",
       "      <td>Tinggi</td>\n",
       "      <td>Siang</td>\n",
       "      <td>Hujan</td>\n",
       "      <td>Normal</td>\n",
       "      <td>NaN</td>\n",
       "    </tr>\n",
       "    <tr>\n",
       "      <th>4</th>\n",
       "      <td>Rendah</td>\n",
       "      <td>Malam</td>\n",
       "      <td>Hujan</td>\n",
       "      <td>Rendah</td>\n",
       "      <td>NaN</td>\n",
       "    </tr>\n",
       "    <tr>\n",
       "      <th>5</th>\n",
       "      <td>Normal</td>\n",
       "      <td>Sore</td>\n",
       "      <td>Cerah</td>\n",
       "      <td>Normal</td>\n",
       "      <td>NaN</td>\n",
       "    </tr>\n",
       "    <tr>\n",
       "      <th>6</th>\n",
       "      <td>Tinggi</td>\n",
       "      <td>Siang</td>\n",
       "      <td>Rintik</td>\n",
       "      <td>Rendah</td>\n",
       "      <td>NaN</td>\n",
       "    </tr>\n",
       "    <tr>\n",
       "      <th>7</th>\n",
       "      <td>Rendah</td>\n",
       "      <td>Siang</td>\n",
       "      <td>Cerah</td>\n",
       "      <td>Rendah</td>\n",
       "      <td>NaN</td>\n",
       "    </tr>\n",
       "    <tr>\n",
       "      <th>8</th>\n",
       "      <td>Normal</td>\n",
       "      <td>Siang</td>\n",
       "      <td>Cerah</td>\n",
       "      <td>Rendah</td>\n",
       "      <td>NaN</td>\n",
       "    </tr>\n",
       "    <tr>\n",
       "      <th>9</th>\n",
       "      <td>Tinggi</td>\n",
       "      <td>Siang</td>\n",
       "      <td>Hujan</td>\n",
       "      <td>Rendah</td>\n",
       "      <td>NaN</td>\n",
       "    </tr>\n",
       "    <tr>\n",
       "      <th>10</th>\n",
       "      <td>Tinggi</td>\n",
       "      <td>Sore</td>\n",
       "      <td>Cerah</td>\n",
       "      <td>Tinggi</td>\n",
       "      <td>NaN</td>\n",
       "    </tr>\n",
       "    <tr>\n",
       "      <th>11</th>\n",
       "      <td>Normal</td>\n",
       "      <td>Siang</td>\n",
       "      <td>Cerah</td>\n",
       "      <td>Tinggi</td>\n",
       "      <td>NaN</td>\n",
       "    </tr>\n",
       "    <tr>\n",
       "      <th>12</th>\n",
       "      <td>Rendah</td>\n",
       "      <td>Pagi</td>\n",
       "      <td>Berawan</td>\n",
       "      <td>Normal</td>\n",
       "      <td>NaN</td>\n",
       "    </tr>\n",
       "    <tr>\n",
       "      <th>13</th>\n",
       "      <td>Rendah</td>\n",
       "      <td>Malam</td>\n",
       "      <td>Rintik</td>\n",
       "      <td>Tinggi</td>\n",
       "      <td>NaN</td>\n",
       "    </tr>\n",
       "    <tr>\n",
       "      <th>14</th>\n",
       "      <td>Normal</td>\n",
       "      <td>Siang</td>\n",
       "      <td>Hujan</td>\n",
       "      <td>Normal</td>\n",
       "      <td>NaN</td>\n",
       "    </tr>\n",
       "    <tr>\n",
       "      <th>15</th>\n",
       "      <td>Tinggi</td>\n",
       "      <td>Malam</td>\n",
       "      <td>Cerah</td>\n",
       "      <td>Tinggi</td>\n",
       "      <td>NaN</td>\n",
       "    </tr>\n",
       "    <tr>\n",
       "      <th>16</th>\n",
       "      <td>Rendah</td>\n",
       "      <td>Malam</td>\n",
       "      <td>Berawan</td>\n",
       "      <td>Rendah</td>\n",
       "      <td>NaN</td>\n",
       "    </tr>\n",
       "    <tr>\n",
       "      <th>17</th>\n",
       "      <td>Rendah</td>\n",
       "      <td>Sore</td>\n",
       "      <td>Rintik</td>\n",
       "      <td>Normal</td>\n",
       "      <td>NaN</td>\n",
       "    </tr>\n",
       "    <tr>\n",
       "      <th>18</th>\n",
       "      <td>Tinggi</td>\n",
       "      <td>Siang</td>\n",
       "      <td>Cerah</td>\n",
       "      <td>Rendah</td>\n",
       "      <td>NaN</td>\n",
       "    </tr>\n",
       "    <tr>\n",
       "      <th>19</th>\n",
       "      <td>Rendah</td>\n",
       "      <td>Malam</td>\n",
       "      <td>Rintik</td>\n",
       "      <td>Normal</td>\n",
       "      <td>NaN</td>\n",
       "    </tr>\n",
       "  </tbody>\n",
       "</table>\n",
       "</div>"
      ],
      "text/plain": [
       "      Suhu  Waktu Kondisi Langit Kelembapan  Terbang/Tidak\n",
       "0   Tinggi  Siang        Berawan     Rendah            NaN\n",
       "1   Rendah  Siang          Hujan     Tinggi            NaN\n",
       "2   Normal   Pagi          Hujan     Tinggi            NaN\n",
       "3   Tinggi  Siang          Hujan     Normal            NaN\n",
       "4   Rendah  Malam          Hujan     Rendah            NaN\n",
       "5   Normal   Sore          Cerah     Normal            NaN\n",
       "6   Tinggi  Siang         Rintik     Rendah            NaN\n",
       "7   Rendah  Siang          Cerah     Rendah            NaN\n",
       "8   Normal  Siang          Cerah     Rendah            NaN\n",
       "9   Tinggi  Siang          Hujan     Rendah            NaN\n",
       "10  Tinggi   Sore          Cerah     Tinggi            NaN\n",
       "11  Normal  Siang          Cerah     Tinggi            NaN\n",
       "12  Rendah   Pagi        Berawan     Normal            NaN\n",
       "13  Rendah  Malam         Rintik     Tinggi            NaN\n",
       "14  Normal  Siang          Hujan     Normal            NaN\n",
       "15  Tinggi  Malam          Cerah     Tinggi            NaN\n",
       "16  Rendah  Malam        Berawan     Rendah            NaN\n",
       "17  Rendah   Sore         Rintik     Normal            NaN\n",
       "18  Tinggi  Siang          Cerah     Rendah            NaN\n",
       "19  Rendah  Malam         Rintik     Normal            NaN"
      ]
     },
     "execution_count": 159,
     "metadata": {},
     "output_type": "execute_result"
    }
   ],
   "source": [
    "uji = pd.read_csv(\"datauji.csv\")\n",
    "uji"
   ]
  },
  {
   "cell_type": "code",
   "execution_count": 160,
   "metadata": {},
   "outputs": [],
   "source": [
    "data_uji = uji[['Suhu','Waktu','Kondisi Langit', 'Kelembapan']].values"
   ]
  },
  {
   "cell_type": "code",
   "execution_count": 161,
   "metadata": {},
   "outputs": [
    {
     "data": {
      "text/plain": [
       "array(['x0_Normal', 'x0_Rendah', 'x0_Tinggi', 'x1_Malam', 'x1_Pagi',\n",
       "       'x1_Siang', 'x1_Sore', 'x2_Berawan', 'x2_Cerah', 'x2_Hujan',\n",
       "       'x2_Rintik', 'x3_Normal', 'x3_Rendah', 'x3_Tinggi'], dtype=object)"
      ]
     },
     "execution_count": 161,
     "metadata": {},
     "output_type": "execute_result"
    }
   ],
   "source": [
    "enc = OneHotEncoder(sparse = False)\n",
    "data_uji = enc.fit_transform(data_uji).astype(int).tolist()\n",
    "enc.get_feature_names()"
   ]
  },
  {
   "cell_type": "code",
   "execution_count": 162,
   "metadata": {},
   "outputs": [],
   "source": [
    "def isiFinal(data_train, kromosom):\n",
    "    \n",
    "    t_suhu, k_suhu = getIndex(data_train[:3]), getIndex(kromosom[:3])  # Suhu's index\n",
    "    t_waktu, k_waktu = getIndex(data_train[3:7]), getIndex(kromosom[3:7])  # Waktu's index\n",
    "    t_langit, k_langit = getIndex(data_train[7:11]), getIndex(kromosom[7:11])  #Langit's index\n",
    "    t_lembab, k_lembab = getIndex(data_train[11:14]), getIndex(kromosom[11:14])  #Kelembapan's index\n",
    "    \n",
    "    if (not k_suhu) and (not k_waktu) and (not k_langit) and (not k_lembab):\n",
    "        return False\n",
    "    else:\n",
    "        if ((suhu(t_suhu, k_suhu)) and waktu(t_waktu, k_suhu) and (kondisi_langit(t_langit, k_langit)) and (kelembapan(t_lembab, k_lembab))):\n",
    "            return True\n",
    "        else:\n",
    "            return False\n",
    "\n",
    "def FinalRule(kromosom, dataset):\n",
    "    split_kromosom = []\n",
    "    split_kromosom = splitKromosom(kromosom)\n",
    "    \n",
    "    for i in range (len(split_kromosom)):\n",
    "        if (isiFinal(dataset, split_kromosom[i])):\n",
    "            return True\n",
    "    return False"
   ]
  },
  {
   "cell_type": "code",
   "execution_count": 163,
   "metadata": {},
   "outputs": [],
   "source": [
    "for i in range (len(data_uji)):\n",
    "    if (FinalRule(finalRule[1], datauji[i])):\n",
    "        uji.loc[i, 'Terbang/Tidak'] = 'Ya'\n",
    "    else:\n",
    "        uji.loc[i, 'Terbang/Tidak'] = 'Tidak'"
   ]
  },
  {
   "cell_type": "code",
   "execution_count": 164,
   "metadata": {},
   "outputs": [
    {
     "data": {
      "text/html": [
       "<div>\n",
       "<style scoped>\n",
       "    .dataframe tbody tr th:only-of-type {\n",
       "        vertical-align: middle;\n",
       "    }\n",
       "\n",
       "    .dataframe tbody tr th {\n",
       "        vertical-align: top;\n",
       "    }\n",
       "\n",
       "    .dataframe thead th {\n",
       "        text-align: right;\n",
       "    }\n",
       "</style>\n",
       "<table border=\"1\" class=\"dataframe\">\n",
       "  <thead>\n",
       "    <tr style=\"text-align: right;\">\n",
       "      <th></th>\n",
       "      <th>Suhu</th>\n",
       "      <th>Waktu</th>\n",
       "      <th>Kondisi Langit</th>\n",
       "      <th>Kelembapan</th>\n",
       "      <th>Terbang/Tidak</th>\n",
       "    </tr>\n",
       "  </thead>\n",
       "  <tbody>\n",
       "    <tr>\n",
       "      <th>0</th>\n",
       "      <td>Tinggi</td>\n",
       "      <td>Siang</td>\n",
       "      <td>Berawan</td>\n",
       "      <td>Rendah</td>\n",
       "      <td>Tidak</td>\n",
       "    </tr>\n",
       "    <tr>\n",
       "      <th>1</th>\n",
       "      <td>Rendah</td>\n",
       "      <td>Siang</td>\n",
       "      <td>Hujan</td>\n",
       "      <td>Tinggi</td>\n",
       "      <td>Tidak</td>\n",
       "    </tr>\n",
       "    <tr>\n",
       "      <th>2</th>\n",
       "      <td>Normal</td>\n",
       "      <td>Pagi</td>\n",
       "      <td>Hujan</td>\n",
       "      <td>Tinggi</td>\n",
       "      <td>Tidak</td>\n",
       "    </tr>\n",
       "    <tr>\n",
       "      <th>3</th>\n",
       "      <td>Tinggi</td>\n",
       "      <td>Siang</td>\n",
       "      <td>Hujan</td>\n",
       "      <td>Normal</td>\n",
       "      <td>Tidak</td>\n",
       "    </tr>\n",
       "    <tr>\n",
       "      <th>4</th>\n",
       "      <td>Rendah</td>\n",
       "      <td>Malam</td>\n",
       "      <td>Hujan</td>\n",
       "      <td>Rendah</td>\n",
       "      <td>Tidak</td>\n",
       "    </tr>\n",
       "    <tr>\n",
       "      <th>5</th>\n",
       "      <td>Normal</td>\n",
       "      <td>Sore</td>\n",
       "      <td>Cerah</td>\n",
       "      <td>Normal</td>\n",
       "      <td>Tidak</td>\n",
       "    </tr>\n",
       "    <tr>\n",
       "      <th>6</th>\n",
       "      <td>Tinggi</td>\n",
       "      <td>Siang</td>\n",
       "      <td>Rintik</td>\n",
       "      <td>Rendah</td>\n",
       "      <td>Tidak</td>\n",
       "    </tr>\n",
       "    <tr>\n",
       "      <th>7</th>\n",
       "      <td>Rendah</td>\n",
       "      <td>Siang</td>\n",
       "      <td>Cerah</td>\n",
       "      <td>Rendah</td>\n",
       "      <td>Tidak</td>\n",
       "    </tr>\n",
       "    <tr>\n",
       "      <th>8</th>\n",
       "      <td>Normal</td>\n",
       "      <td>Siang</td>\n",
       "      <td>Cerah</td>\n",
       "      <td>Rendah</td>\n",
       "      <td>Tidak</td>\n",
       "    </tr>\n",
       "    <tr>\n",
       "      <th>9</th>\n",
       "      <td>Tinggi</td>\n",
       "      <td>Siang</td>\n",
       "      <td>Hujan</td>\n",
       "      <td>Rendah</td>\n",
       "      <td>Tidak</td>\n",
       "    </tr>\n",
       "    <tr>\n",
       "      <th>10</th>\n",
       "      <td>Tinggi</td>\n",
       "      <td>Sore</td>\n",
       "      <td>Cerah</td>\n",
       "      <td>Tinggi</td>\n",
       "      <td>Tidak</td>\n",
       "    </tr>\n",
       "    <tr>\n",
       "      <th>11</th>\n",
       "      <td>Normal</td>\n",
       "      <td>Siang</td>\n",
       "      <td>Cerah</td>\n",
       "      <td>Tinggi</td>\n",
       "      <td>Tidak</td>\n",
       "    </tr>\n",
       "    <tr>\n",
       "      <th>12</th>\n",
       "      <td>Rendah</td>\n",
       "      <td>Pagi</td>\n",
       "      <td>Berawan</td>\n",
       "      <td>Normal</td>\n",
       "      <td>Tidak</td>\n",
       "    </tr>\n",
       "    <tr>\n",
       "      <th>13</th>\n",
       "      <td>Rendah</td>\n",
       "      <td>Malam</td>\n",
       "      <td>Rintik</td>\n",
       "      <td>Tinggi</td>\n",
       "      <td>Tidak</td>\n",
       "    </tr>\n",
       "    <tr>\n",
       "      <th>14</th>\n",
       "      <td>Normal</td>\n",
       "      <td>Siang</td>\n",
       "      <td>Hujan</td>\n",
       "      <td>Normal</td>\n",
       "      <td>Tidak</td>\n",
       "    </tr>\n",
       "    <tr>\n",
       "      <th>15</th>\n",
       "      <td>Tinggi</td>\n",
       "      <td>Malam</td>\n",
       "      <td>Cerah</td>\n",
       "      <td>Tinggi</td>\n",
       "      <td>Tidak</td>\n",
       "    </tr>\n",
       "    <tr>\n",
       "      <th>16</th>\n",
       "      <td>Rendah</td>\n",
       "      <td>Malam</td>\n",
       "      <td>Berawan</td>\n",
       "      <td>Rendah</td>\n",
       "      <td>Tidak</td>\n",
       "    </tr>\n",
       "    <tr>\n",
       "      <th>17</th>\n",
       "      <td>Rendah</td>\n",
       "      <td>Sore</td>\n",
       "      <td>Rintik</td>\n",
       "      <td>Normal</td>\n",
       "      <td>Tidak</td>\n",
       "    </tr>\n",
       "    <tr>\n",
       "      <th>18</th>\n",
       "      <td>Tinggi</td>\n",
       "      <td>Siang</td>\n",
       "      <td>Cerah</td>\n",
       "      <td>Rendah</td>\n",
       "      <td>Tidak</td>\n",
       "    </tr>\n",
       "    <tr>\n",
       "      <th>19</th>\n",
       "      <td>Rendah</td>\n",
       "      <td>Malam</td>\n",
       "      <td>Rintik</td>\n",
       "      <td>Normal</td>\n",
       "      <td>Tidak</td>\n",
       "    </tr>\n",
       "  </tbody>\n",
       "</table>\n",
       "</div>"
      ],
      "text/plain": [
       "      Suhu  Waktu Kondisi Langit Kelembapan Terbang/Tidak\n",
       "0   Tinggi  Siang        Berawan     Rendah         Tidak\n",
       "1   Rendah  Siang          Hujan     Tinggi         Tidak\n",
       "2   Normal   Pagi          Hujan     Tinggi         Tidak\n",
       "3   Tinggi  Siang          Hujan     Normal         Tidak\n",
       "4   Rendah  Malam          Hujan     Rendah         Tidak\n",
       "5   Normal   Sore          Cerah     Normal         Tidak\n",
       "6   Tinggi  Siang         Rintik     Rendah         Tidak\n",
       "7   Rendah  Siang          Cerah     Rendah         Tidak\n",
       "8   Normal  Siang          Cerah     Rendah         Tidak\n",
       "9   Tinggi  Siang          Hujan     Rendah         Tidak\n",
       "10  Tinggi   Sore          Cerah     Tinggi         Tidak\n",
       "11  Normal  Siang          Cerah     Tinggi         Tidak\n",
       "12  Rendah   Pagi        Berawan     Normal         Tidak\n",
       "13  Rendah  Malam         Rintik     Tinggi         Tidak\n",
       "14  Normal  Siang          Hujan     Normal         Tidak\n",
       "15  Tinggi  Malam          Cerah     Tinggi         Tidak\n",
       "16  Rendah  Malam        Berawan     Rendah         Tidak\n",
       "17  Rendah   Sore         Rintik     Normal         Tidak\n",
       "18  Tinggi  Siang          Cerah     Rendah         Tidak\n",
       "19  Rendah  Malam         Rintik     Normal         Tidak"
      ]
     },
     "execution_count": 164,
     "metadata": {},
     "output_type": "execute_result"
    }
   ],
   "source": [
    "uji"
   ]
  },
  {
   "cell_type": "code",
   "execution_count": 108,
   "metadata": {},
   "outputs": [],
   "source": [
    "uji.to_csv(\"hasil.csv\")"
   ]
  }
 ],
 "metadata": {
  "kernelspec": {
   "display_name": "Python 3",
   "language": "python",
   "name": "python3"
  },
  "language_info": {
   "codemirror_mode": {
    "name": "ipython",
    "version": 3
   },
   "file_extension": ".py",
   "mimetype": "text/x-python",
   "name": "python",
   "nbconvert_exporter": "python",
   "pygments_lexer": "ipython3",
   "version": "3.7.1"
  }
 },
 "nbformat": 4,
 "nbformat_minor": 2
}
